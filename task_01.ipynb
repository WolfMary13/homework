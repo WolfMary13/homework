{
 "cells": [
  {
   "cell_type": "markdown",
   "id": "1994b264",
   "metadata": {},
   "source": [
    "### Часть 1"
   ]
  },
  {
   "cell_type": "markdown",
   "id": "4c7c0879",
   "metadata": {},
   "source": [
    "1. Исследовать на линейную зависимость:\n",
    "\n",
    "$$f_{1}(x)=e^{x}, f_{2}(x)=1, f_{3}(x)=x+1, f_{4}(x)=x-e^{x}.$$"
   ]
  },
  {
   "cell_type": "markdown",
   "id": "f1513a8e",
   "metadata": {},
   "source": [
    "$$f_{3}(x)=f_{2}(x)+x$$"
   ]
  },
  {
   "cell_type": "markdown",
   "id": "3d772a5c",
   "metadata": {},
   "source": [
    "$$x=f_{3}(x)-f_{2}(x), f_{4}(x)=f_{3}(x)-f_{2}(x)-f_{1}(x)$$"
   ]
  },
  {
   "cell_type": "markdown",
   "id": "3bd812d1",
   "metadata": {},
   "source": [
    "один из векторов линейная комибнация остальных, следовательно они линейно зависимы"
   ]
  },
  {
   "cell_type": "markdown",
   "id": "c07c26f4",
   "metadata": {},
   "source": [
    "2.Исследовать на линейную зависимость:\n",
    "$$f_{1}(x)=2, f_{2}(x)=x, f_{3}(x)=x^{2}, f_{4}(x)=(x+1)^{2}$$"
   ]
  },
  {
   "cell_type": "markdown",
   "id": "83a04f66",
   "metadata": {},
   "source": [
    "$$f_{4} = x^2 + 2x + 1$$"
   ]
  },
  {
   "cell_type": "markdown",
   "id": "abcaa568",
   "metadata": {},
   "source": [
    "$$f_{4}(x)=f_{3}(x)+2*f_{2}(x)+1/2f_{1}(x)$$"
   ]
  },
  {
   "cell_type": "markdown",
   "id": "f392de27",
   "metadata": {},
   "source": [
    "один из векторов линейная комибнация остальных, следовательно они линейно зависимы"
   ]
  },
  {
   "cell_type": "markdown",
   "id": "013cab4d",
   "metadata": {},
   "source": [
    "3. Найти координаты вектора $x = (2, 3, 5)\\in \\mathbb{R}^{3}$ в базисе $b_{1}=(0, 0, 10)$, $b_{2}=(2, 0, 0)$, $b_{3}=(0, 1, 0)$."
   ]
  },
  {
   "cell_type": "markdown",
   "id": "f21c2b6c",
   "metadata": {},
   "source": [
    "$x = b_{2} + 3*b_{3}+1/2*b_{1}$"
   ]
  },
  {
   "cell_type": "markdown",
   "id": "b7e073b9",
   "metadata": {},
   "source": [
    "4. Найти координаты вектора $3x^{2}-2x+2\\in\\mathbb{R}^{3}[x]$:\n",
    "\n",
    "а) в базисе $1$, $x$, $x^{2}$;\n",
    "\n",
    "б) в базисе $x^{2}$, $x-1$, $1$."
   ]
  },
  {
   "cell_type": "markdown",
   "id": "a4b57aba",
   "metadata": {},
   "source": [
    "а) (2, -2, 3)  \n",
    "б) (3, -2, 0)"
   ]
  },
  {
   "cell_type": "markdown",
   "id": "21dcf492",
   "metadata": {},
   "source": [
    "5. Установить, является ли линейным подпространством:\n",
    "\n",
    "а) совокупность всех векторов трехмерного пространства, у которых по крайней мере одна из первых двух координат равна нулю;\n",
    "    \n",
    "б) все векторы, являющиеся линейными комбинациями данных векторов $\\{u_{1}, u_{2}, \\ldots, u_{n}\\}$."
   ]
  },
  {
   "cell_type": "markdown",
   "id": "72038eff",
   "metadata": {},
   "source": [
    "a)\n",
    "полученные векторы уже не принадлежат указанному в задании множеству всех векторов\n",
    "\n",
    "$$(0, a, b)+(c, 0, d) = (c, a, b+d)$$\n",
    "\n",
    "б) если векторы являются линейнными комбинациями, значит они линейно зависимы и значит являются линейным подпространством"
   ]
  },
  {
   "cell_type": "markdown",
   "id": "354b902f",
   "metadata": {},
   "source": [
    "### Часть 2"
   ]
  },
  {
   "cell_type": "code",
   "execution_count": 1,
   "id": "42fabaa5",
   "metadata": {},
   "outputs": [],
   "source": [
    "import numpy as np\n",
    "from numpy.linalg import norm"
   ]
  },
  {
   "cell_type": "markdown",
   "id": "45cad389",
   "metadata": {},
   "source": [
    "1.Найти скалярное произведение векторов $x, y \\in \\mathbb{R}$:<br>\n",
    "а) $x=(0,-3, 6),~y=(-4, 7, 9);$<br>\n",
    "б) $x=(7, -4, 0, 1),~y=(-3, 1, 11, 2).$"
   ]
  },
  {
   "cell_type": "markdown",
   "id": "29135f9c",
   "metadata": {},
   "source": [
    "a) $(x, y) = 0 \\cdot (-4) + (-3) \\cdot 7 + 6 \\cdot 9 = 33$  \n",
    "б) $(x, y) = 7 \\cdot (-3) +(-4) \\cdot 1 + 0 \\cdot 11 + 1 \\cdot\\ 2 = -23$"
   ]
  },
  {
   "cell_type": "code",
   "execution_count": 2,
   "id": "926ffa22",
   "metadata": {},
   "outputs": [
    {
     "name": "stdout",
     "output_type": "stream",
     "text": [
      "Скалярное произведение a и b:\n",
      "33\n"
     ]
    }
   ],
   "source": [
    "a = np.array([0, -3, 6])\n",
    "b = np.array([-4, 7, 9])\n",
    "print(f'Скалярное произведение a и b:\\n{np.dot(a, b)}')"
   ]
  },
  {
   "cell_type": "code",
   "execution_count": 3,
   "id": "02c17b45",
   "metadata": {},
   "outputs": [
    {
     "name": "stdout",
     "output_type": "stream",
     "text": [
      "Скалярное произведение a и b:\n",
      "-23\n"
     ]
    }
   ],
   "source": [
    "a = np.array([7, -4, 0, 1])\n",
    "b = np.array([-3, 1, 11, 2])\n",
    "print(f'Скалярное произведение a и b:\\n{np.dot(a, b)}')"
   ]
  },
  {
   "cell_type": "markdown",
   "id": "608121af",
   "metadata": {},
   "source": [
    "2. Найти нормы векторов $(4, 2, 4)$ и $(12, 3, 4)$ и угол между ними."
   ]
  },
  {
   "cell_type": "markdown",
   "id": "446ebbb2",
   "metadata": {},
   "source": [
    "$x = (4, 2, 4)$  \n",
    "$y = (12, 3, 4)$  \n",
    "$(x, y) = 4 \\cdot 12 + 2 \\cdot 3 + 4 \\cdot 4 = 70$"
   ]
  },
  {
   "cell_type": "markdown",
   "id": "70258e20",
   "metadata": {},
   "source": [
    "$\\left\\|x\\right\\|_{1} = |4| + |2| + |4| = 10$  \n",
    "$\\left\\|y\\right\\|_{1} = |12| + |3| + |4| = 19$  \n",
    "$\\cos{\\varphi} = \\frac{x, y}{\\left \\|x\\right \\|\\cdot\\left \\|y\\right \\|} = \\frac{70}{10 \\cdot 19} = 0.3684$  \n",
    "$\\varphi = \\frac{0.3684}{\\pi} \\cdot 180 = 21.10^{\\circ }$"
   ]
  },
  {
   "cell_type": "markdown",
   "id": "5f748bbb",
   "metadata": {},
   "source": [
    "$\\left\\|x\\right\\|_{2} = \\sqrt{4^2 + 2^2 + 4^2} = 6$  \n",
    "$\\left\\|y\\right\\|_{2} = \\sqrt{12^2 + 3^2 + 4^2} = 13$  \n",
    "$\\cos{\\varphi} = \\frac{x, y}{\\left \\|x\\right \\|\\cdot\\left \\|y\\right \\|} = \\frac{70}{6 \\cdot 13} = 0.8974$  \n",
    "$\\varphi = \\frac{0.8974}{\\pi} \\cdot 180 = 51.42^{\\circ }$"
   ]
  },
  {
   "cell_type": "markdown",
   "id": "e564ff89",
   "metadata": {},
   "source": [
    "3. Будет ли линейное пространство евклидовым, если за скалярное произведение принять:<br>\n",
    "а) произведение длин векторов;<br>\n",
    "б) утроенное обычное скалярное произведение векторов?<br>"
   ]
  },
  {
   "cell_type": "markdown",
   "id": "1b1d737c",
   "metadata": {},
   "source": [
    "а) Нет  \n",
    "$(x_{1}+x_{2},y) \\neq (x_{1},y)+(x_{2},y);$\n",
    "\n",
    "б) Да"
   ]
  },
  {
   "cell_type": "markdown",
   "id": "895b1d94",
   "metadata": {},
   "source": [
    "4. Какие из нижеперечисленных векторов образуют ортонормированный базис в линейном пространстве $\\mathbb{R}^{3}$:<br>\n",
    "а) $(1,0,0),(0,0,1);$ <br>\n",
    "б) $(1/\\sqrt{2},-1/\\sqrt{2},0),(1/\\sqrt{2},1/\\sqrt{2},0), (0,0,1);$<br>\n",
    "в) $(1/2, -1/2, 0), (0, 1/2, 1/2), (0,0,1);$<br>\n",
    "г) $(1,0,0),(0,1,0),(0,0,1)?$ "
   ]
  },
  {
   "cell_type": "markdown",
   "id": "8abb1d19",
   "metadata": {},
   "source": [
    "Если скалярное произведение векторов равно нулю и равно единице при совпадающем индексе, то вектора образуют ортонормированный базис"
   ]
  },
  {
   "cell_type": "markdown",
   "id": "e94d426f",
   "metadata": {},
   "source": [
    "а) $1 \\cdot 0 + 0 \\cdot 0 + 0 \\cdot 1 = 0$  \n",
    "$|x_1| = 1$  \n",
    "$|x_2| = 1$  \n",
    "Вектора $(1,0,0), (0,0,1)$ - образуют ортонормированный базис"
   ]
  },
  {
   "cell_type": "markdown",
   "id": "040bd28d",
   "metadata": {},
   "source": [
    "б) $\\frac{1}{\\sqrt{2}} \\cdot \\frac{1}{\\sqrt{2}} + \\left(-\\frac{1}{\\sqrt{2}}\\right) \\cdot \\frac{1}{\\sqrt{2}} + 0 \\cdot 0 = 0$  \n",
    "  \n",
    "$|x_1| = \\sqrt{\\frac{1}{\\sqrt{2}}^2 + \\left(-\\frac{1}{\\sqrt{2}}\\right)^2 + 0^2} = 1$  \n",
    "$|x_2| = \\sqrt{\\frac{1}{\\sqrt{2}}^2 + \\frac{1}{\\sqrt{2}}^2 + 0^2} = 1$  \n",
    "$|x_3| = 1$  \n",
    "\n",
    "Вектора $\\left(\\frac{1}{\\sqrt{2}},-\\frac{1}{\\sqrt{2}},0\\right),\\left(\\frac{1}{\\sqrt{2}},\\frac{1}{\\sqrt{2}},0\\right), (0,0,1)$- необразуют ортонормированный базис"
   ]
  },
  {
   "cell_type": "markdown",
   "id": "ea4cc421",
   "metadata": {},
   "source": [
    "в) $\\frac{1}{2} \\cdot \\frac{1}{2} + \\left(-\\frac{1}{2} \\cdot -\\frac{1}{2}\\right) + 0 \\cdot 0 = 0.5$ \n",
    "  \n",
    "Вектора $\\left(\\frac{1}{2}, -\\frac{1}{2}, 0\\right), \\left(0, \\frac{1}{2}, \\frac{1}{2}\\right), (0,0,1)$ - не образуют ортонормированный базис"
   ]
  },
  {
   "cell_type": "markdown",
   "id": "31728fc7",
   "metadata": {},
   "source": [
    "г) Вектора $(1,0,0),(0,1,0),(0,0,1)$ - образуют ортонормированный базис"
   ]
  },
  {
   "cell_type": "code",
   "execution_count": null,
   "id": "eea30aff",
   "metadata": {},
   "outputs": [],
   "source": []
  }
 ],
 "metadata": {
  "kernelspec": {
   "display_name": "Python 3",
   "language": "python",
   "name": "python3"
  },
  "language_info": {
   "codemirror_mode": {
    "name": "ipython",
    "version": 3
   },
   "file_extension": ".py",
   "mimetype": "text/x-python",
   "name": "python",
   "nbconvert_exporter": "python",
   "pygments_lexer": "ipython3",
   "version": "3.8.8"
  }
 },
 "nbformat": 4,
 "nbformat_minor": 5
}
